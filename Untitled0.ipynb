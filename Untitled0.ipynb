{
  "nbformat": 4,
  "nbformat_minor": 0,
  "metadata": {
    "colab": {
      "provenance": []
    },
    "kernelspec": {
      "name": "python3",
      "display_name": "Python 3"
    },
    "language_info": {
      "name": "python"
    }
  },
  "cells": [
    {
      "cell_type": "code",
      "execution_count": null,
      "metadata": {
        "id": "YJzZ1u6FXKrr"
      },
      "outputs": [],
      "source": [
        "#Importing Libraries\n",
        "import cv2\n",
        "import numpy as np\n",
        "import dlib\n",
        "from imutils import face_utils\n",
        "import imutils\n",
        "import playsound\n",
        "import threading\n",
        "import time\n",
        "#Video Capture Initialization\n",
        "def ply_snd():\n",
        "    playsound.playsound(\"mixkit-classic-alarm-995.wav\")\n",
        "    time.sleep(30)\n",
        "\n",
        "#Face and Landmark Detector Initialization\n",
        "detector = dlib.get_frontal_face_detector()\n",
        "predictor = dlib.shape_predictor(\"C:\\\\Users\\\\rakul\\\\Downloads\\\\archive\\\\shape_predictor_68_face_landmarks.dat\")\n",
        "\n",
        "#Helper Functions\n",
        "def compute(ptA, ptB):\n",
        "    dist = np.linalg.norm(ptA - ptB)\n",
        "    return dist\n",
        "def blink(a, th):\n",
        "    up = compute(a[1], a[5]) + compute(a[2], a[4])\n",
        "    down = compute(a[0], a[3])\n",
        "    ratio = up / (2.0 * down)\n",
        "    if ratio > abs(th * 0.75):\n",
        "        return 2  # Open eyes\n",
        "    elif abs(th * 0.5) < ratio <= abs(th * 0.75):\n",
        "        return 1  # Half-closed eyes\n",
        "    else:\n",
        "        return 0  # Closed eyes\n",
        "\n",
        "#Calibration Loop\n",
        "i = 0\n",
        "d = 0\n",
        "for i in range(0, 10):\n",
        "    ret, frame = cap.read()\n",
        "    ...\n",
        "    d += (l + r) / 2.0\n",
        "d = d / 10\n",
        "\n",
        "#Main Loop for Drowsiness Detection\n",
        "\n",
        "while True:\n",
        "    ret, frame = cap.read()\n",
        "    ...\n",
        "    left_blink = blink(landmarks[36:42], d)\n",
        "    right_blink = blink(landmarks[42:48], d)\n",
        "    ...\n",
        "    if status == \"Sleeping!!!\" or status == \"Drowsy!!\":\n",
        "        thread = threading.Thread(target=ply_snd)\n",
        "        thread.daemon = True\n",
        "        thread.start()\n",
        "\n",
        "#Drawing and Displaying Results\n",
        "cv2.putText(frame, status, (100, 100), cv2.FONT_HERSHEY_SIMPLEX, 1.2, color, 3)\n",
        "for n in range(0, 68):\n",
        "    (x, y) = landmarks[n]\n",
        "    cv2.circle(frame, (x, y), 1, (255, 255, 255), -1)\n",
        "\n",
        "End Condition\n",
        "if cv2.waitKey(1) == ord('q'):\n",
        "    break\n",
        "\n"
      ]
    }
  ]
}